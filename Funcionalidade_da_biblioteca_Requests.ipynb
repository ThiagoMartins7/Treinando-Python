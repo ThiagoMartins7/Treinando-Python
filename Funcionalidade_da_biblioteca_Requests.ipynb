{
  "nbformat": 4,
  "nbformat_minor": 0,
  "metadata": {
    "colab": {
      "provenance": [],
      "authorship_tag": "ABX9TyOPXx9uZ7ki9Ll39NsfDm/D",
      "include_colab_link": true
    },
    "kernelspec": {
      "name": "python3",
      "display_name": "Python 3"
    },
    "language_info": {
      "name": "python"
    }
  },
  "cells": [
    {
      "cell_type": "markdown",
      "metadata": {
        "id": "view-in-github",
        "colab_type": "text"
      },
      "source": [
        "<a href=\"https://colab.research.google.com/github/ThiagoMartins7/Treinando-Python/blob/main/Funcionalidade_da_biblioteca_Requests.ipynb\" target=\"_parent\"><img src=\"https://colab.research.google.com/assets/colab-badge.svg\" alt=\"Open In Colab\"/></a>"
      ]
    },
    {
      "cell_type": "code",
      "execution_count": 6,
      "metadata": {
        "colab": {
          "base_uri": "https://localhost:8080/"
        },
        "id": "I8bFEQ12pBpz",
        "outputId": "04c3913d-90ad-4082-d3a6-890736827ef0"
      },
      "outputs": [
        {
          "output_type": "stream",
          "name": "stdout",
          "text": [
            "<Response [200]>\n",
            "{'Inicio': {'Cor favorita:': 'Preto', 'Idade': 20, 'Nome:': 'Thiago'}, 'Meio': {'123': 123}}\n"
          ]
        }
      ],
      "source": [
        "import requests #Biblioteca para python\n",
        "\n",
        "#Foi usado o FireBase para teste\n",
        "\n",
        "#o processo funciona em 4 partes:\n",
        "\n",
        "#Pegar Informações - GET\n",
        "#Criar informação - POST\n",
        "#Editar informação - PATCH\n",
        "#Deletar Informação - DELETE\n",
        "\n",
        "\n",
        "\n",
        "#GET = ele serve para pegar uma informação\n",
        "\n",
        "requicicao = requests.get('https://teste-api-em-python-default-rtdb.firebaseio.com/.json') #usado para pegar informações de uma API\n",
        "print(requicicao)\n",
        "print(requicicao.json())\n"
      ]
    },
    {
      "cell_type": "code",
      "source": [
        "#POST = ele serve para criar uma informação ex:\n",
        "\n",
        "informacoes = '{\"Nome\": \"Silva\"}' #informação a ser inserida\n",
        "requicicao = requests.post('https://teste-api-em-python-default-rtdb.firebaseio.com/.json',data=informacoes) #data sendo usado para gerar a informação\n",
        "print(requicicao)\n",
        "print(requicicao.json())\n"
      ],
      "metadata": {
        "colab": {
          "base_uri": "https://localhost:8080/"
        },
        "id": "nXvVLJLFtXkz",
        "outputId": "fa427fb3-cac2-476c-99df-2a7f108066f1"
      },
      "execution_count": 10,
      "outputs": [
        {
          "output_type": "stream",
          "name": "stdout",
          "text": [
            "<Response [200]>\n",
            "{'name': '-NN7tUngkRi0HIPH3WnC'}\n"
          ]
        }
      ]
    },
    {
      "cell_type": "code",
      "source": [
        "#Patch = serve para atualizar uma informação\n",
        "\n",
        "informacoes = '{\"Nome\": \"Thiago\", \"Sobrenome\": \"Martins\",\"Idade\":\"20\"}' #Informações a serem atualizadas\n",
        "requicicao = requests.patch('https://teste-api-em-python-default-rtdb.firebaseio.com/-NN7tIWbkz85lhHJqi-7.json',data=informacoes) #o https tem que ser igual ao da informação a ser atualizada\n",
        "print(requicicao)\n",
        "print(requicicao.json())\n"
      ],
      "metadata": {
        "colab": {
          "base_uri": "https://localhost:8080/"
        },
        "id": "shxc87ra5uT8",
        "outputId": "ff90a9c2-d75f-4341-c00b-56fb88dea2fa"
      },
      "execution_count": 11,
      "outputs": [
        {
          "output_type": "stream",
          "name": "stdout",
          "text": [
            "<Response [200]>\n",
            "{'Nome': 'Thiago', 'Sobrenome': 'Martins', 'Idade': '20'}\n"
          ]
        }
      ]
    },
    {
      "cell_type": "code",
      "source": [
        "#Delete = Serve para deletar alguma função atribuida ao link\n",
        "\n",
        "\n",
        "requicicao = requests.delete('https://teste-api-em-python-default-rtdb.firebaseio.com/-NN7tIWbkz85lhHJqi-7.json')"
      ],
      "metadata": {
        "id": "9EoCkc796opi"
      },
      "execution_count": 12,
      "outputs": []
    }
  ]
}